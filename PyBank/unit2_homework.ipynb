{
 "cells": [
  {
   "cell_type": "code",
   "execution_count": 153,
   "metadata": {},
   "outputs": [
    {
     "name": "stdout",
     "output_type": "stream",
     "text": [
      "---------Summary Statistics----------\n",
      "Number of Total Months: 86\n",
      "Total: $38382578\n",
      "Average of changes in Profit/Losses: 446309.05\n",
      "Percentage of Profitable Months: 86.04651162790698%\n",
      "Percentage of Unprofitable Months: 13.953488372093023%\n",
      "-------------------------------------\n",
      "Profitable Months: 74\n",
      "Unprofitable Months: 12\n",
      "-------------------------------------\n",
      "Total Profits/Losses: $38382578\n",
      "Daily Average: 446309.05\n",
      "Worst Loss: -1196225\n",
      "Best Gain: 1170593\n"
     ]
    }
   ],
   "source": [
    "from pathlib import Path\n",
    "import csv\n",
    "\n",
    "csvpath = Path(\"budget_data.csv\")\n",
    "\n",
    "months = 0\n",
    "profitlosses = 0\n",
    "count = 0\n",
    "total = 0\n",
    "average = 0\n",
    "minimum = 0\n",
    "maximum = 0\n",
    "net_change = 0\n",
    "previous_profit_loss = 0\n",
    "\n",
    "datetotal = []\n",
    "profitlosses = []\n",
    "months =[]\n",
    "profitable_months = []\n",
    "unprofitable_months = []\n",
    "monthly_change = {}\n",
    "net_change = []\n",
    "previous_profit_loss = []\n",
    "\n",
    "with open(csvpath, 'r') as csvfile:\n",
    "    csvreader = csv.reader(csvfile, delimiter=',')\n",
    "    \n",
    "    csv_header = next(csvreader)\n",
    "     \n",
    "    for row in csvreader:\n",
    "\n",
    "\n",
    "        date = row[0]\n",
    "        profitlosses = int(row[1])\n",
    "        \n",
    "        total += profitlosses\n",
    "        count += 1   \n",
    "        \n",
    "        \n",
    "        if minimum == 0:\n",
    "            minimum = profitlosses\n",
    "        elif profitlosses < minimum:\n",
    "            minimum = profitlosses\n",
    "        elif profitlosses > maximum:\n",
    "            maximum = profitlosses\n",
    "            \n",
    "        if profitlosses > 0:\n",
    "            profitable_months.append(profitlosses)\n",
    "        elif profitlosses <= 0:\n",
    "            unprofitable_months.append(profitlosses)\n",
    "       \n",
    "        \n",
    "            \n",
    "average = round(total / count, 2)\n",
    "\n",
    "# Count metrics\n",
    "profitable_count = len(profitable_months)\n",
    "unprofitable_count = len(unprofitable_months)\n",
    "\n",
    "# Percentage metrics\n",
    "percent_profitable = profitable_count / count * 100\n",
    "percent_unprofitable = unprofitable_count / count * 100\n",
    "\n",
    "# Print out the summary statistics\n",
    "print(\"---------Summary Statistics----------\")\n",
    "print(f\"Number of Total Months: {count}\")\n",
    "print(f\"Total: ${total}\")\n",
    "print(f\"Average of changes in Profit/Losses: {average}\")\n",
    "print(f\"Percentage of Profitable Months: {percent_profitable}%\")\n",
    "print(f\"Percentage of Unprofitable Months: {percent_unprofitable}%\")\n",
    "print(\"-------------------------------------\")\n",
    "print(f\"Profitable Months: {profitable_count}\")\n",
    "print(f\"Unprofitable Months: {unprofitable_count}\")\n",
    "print(\"-------------------------------------\")\n",
    "print(f\"Total Profits/Losses: ${total}\")\n",
    "print(f\"Daily Average: {average}\")\n",
    "print(f\"Worst Loss: {minimum}\")\n",
    "print(f\"Best Gain: {maximum}\")\n",
    "\n",
    "outputpath='output.txt'      \n",
    "      \n",
    "with open(outputpath,'w') as file:\n",
    "        file.write(\"Financial Analysis\")\n",
    "        file.write(\"----------------------------\")\n",
    "        file.write(f\"Number of Total Months: {count}\")\n",
    "        file.write(f\"Total: ${total}\")\n",
    "        file.write(f\"Average of changes in Profit/Losses: {average}\")\n",
    "        file.write(f\"Worst Loss: {minimum}\")\n",
    "        file.write(f\"Best Gain: {maximum}\")"
   ]
  },
  {
   "cell_type": "code",
   "execution_count": 154,
   "metadata": {},
   "outputs": [
    {
     "ename": "SyntaxError",
     "evalue": "invalid syntax (<ipython-input-154-3d6cfb4a5e4d>, line 1)",
     "output_type": "error",
     "traceback": [
      "\u001b[1;36m  File \u001b[1;32m\"<ipython-input-154-3d6cfb4a5e4d>\"\u001b[1;36m, line \u001b[1;32m1\u001b[0m\n\u001b[1;33m    git add .\u001b[0m\n\u001b[1;37m          ^\u001b[0m\n\u001b[1;31mSyntaxError\u001b[0m\u001b[1;31m:\u001b[0m invalid syntax\n"
     ]
    }
   ],
   "source": [
    "git add ."
   ]
  },
  {
   "cell_type": "code",
   "execution_count": 155,
   "metadata": {},
   "outputs": [
    {
     "ename": "SyntaxError",
     "evalue": "invalid syntax (<ipython-input-155-b3f8b6bd159d>, line 1)",
     "output_type": "error",
     "traceback": [
      "\u001b[1;36m  File \u001b[1;32m\"<ipython-input-155-b3f8b6bd159d>\"\u001b[1;36m, line \u001b[1;32m1\u001b[0m\n\u001b[1;33m    git add.\u001b[0m\n\u001b[1;37m          ^\u001b[0m\n\u001b[1;31mSyntaxError\u001b[0m\u001b[1;31m:\u001b[0m invalid syntax\n"
     ]
    }
   ],
   "source": [
    "git add."
   ]
  },
  {
   "cell_type": "code",
   "execution_count": null,
   "metadata": {},
   "outputs": [],
   "source": []
  }
 ],
 "metadata": {
  "kernelspec": {
   "display_name": "Python 3",
   "language": "python",
   "name": "python3"
  },
  "language_info": {
   "codemirror_mode": {
    "name": "ipython",
    "version": 3
   },
   "file_extension": ".py",
   "mimetype": "text/x-python",
   "name": "python",
   "nbconvert_exporter": "python",
   "pygments_lexer": "ipython3",
   "version": "3.7.9"
  }
 },
 "nbformat": 4,
 "nbformat_minor": 4
}
